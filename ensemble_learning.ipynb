{
 "cells": [
  {
   "cell_type": "code",
   "execution_count": 224,
   "metadata": {},
   "outputs": [],
   "source": [
    "from utils.load_dataset import PlantVillageDataset\n",
    "import matplotlib.pyplot as plt\n",
    "import torch\n",
    "from torch.utils.data import DataLoader\n",
    "import torch.optim as optim \n",
    "import torch.nn as nn\n",
    "from utils.preprocessing import preprocessing_img\n",
    "import torchvision.models  as models\n",
    "from torchvision import transforms\n",
    "from test import LinearHeadModel"
   ]
  },
  {
   "cell_type": "code",
   "execution_count": 225,
   "metadata": {},
   "outputs": [],
   "source": [
    "device = torch.device(\"mps\" if torch.backends.mps.is_available() else \"cpu\")"
   ]
  },
  {
   "cell_type": "code",
   "execution_count": 226,
   "metadata": {},
   "outputs": [],
   "source": [
    "from create_datasets import train_validation_dataloader as train_dataloader, test_validation_dataloader as test_dataloader"
   ]
  },
  {
   "cell_type": "markdown",
   "metadata": {},
   "source": [
    "## Import pre-trained models"
   ]
  },
  {
   "cell_type": "code",
   "execution_count": 240,
   "metadata": {},
   "outputs": [
    {
     "name": "stderr",
     "output_type": "stream",
     "text": [
      "/Users/albanevigier/Library/Python/3.9/lib/python/site-packages/torchvision/models/_utils.py:208: UserWarning: The parameter 'pretrained' is deprecated since 0.13 and may be removed in the future, please use 'weights' instead.\n",
      "  warnings.warn(\n",
      "/Users/albanevigier/Library/Python/3.9/lib/python/site-packages/torchvision/models/_utils.py:223: UserWarning: Arguments other than a weight enum or `None` for 'weights' are deprecated since 0.13 and may be removed in the future. The current behavior is equivalent to passing `weights=ResNet50_Weights.IMAGENET1K_V1`. You can also use `weights=ResNet50_Weights.DEFAULT` to get the most up-to-date weights.\n",
      "  warnings.warn(msg)\n"
     ]
    }
   ],
   "source": [
    "# ResNet50\n",
    "resnet50 = models.resnet50(pretrained=True)  # Load the pretrained ResNet50\n",
    "for param in resnet50.parameters():\n",
    "    param.requires_grad = False\n",
    "\n",
    "# DenseNet201\n",
    "densenet = models.densenet201(weights=models.DenseNet201_Weights.DEFAULT)\n",
    "for param in densenet.parameters():\n",
    "    param.requires_grad = False\n",
    "\n",
    "# EfficientNetB0\n",
    "efficientnet_b0 = models.efficientnet_b0(weights=models.EfficientNet_B0_Weights.IMAGENET1K_V1)\n",
    "for param in efficientnet_b0.parameters():\n",
    "    param.requires_grad = False\n",
    "\n",
    "# EfficientNetB3\n",
    "efficientnet_b3 = models.efficientnet_b3(weights=models.EfficientNet_B3_Weights.IMAGENET1K_V1)\n",
    "for param in efficientnet_b3.parameters():\n",
    "    param.requires_grad = False"
   ]
  },
  {
   "cell_type": "markdown",
   "metadata": {},
   "source": [
    "## Import heads for each pre-trained models"
   ]
  },
  {
   "cell_type": "code",
   "execution_count": 241,
   "metadata": {},
   "outputs": [],
   "source": [
    "# Load model from file\n",
    "def load_model_from_file(model_path, input_dim, output_dim):\n",
    "    model = LinearHeadModel(input_dim, output_dim)\n",
    "    model.load_state_dict(torch.load(model_path))\n",
    "    return model"
   ]
  },
  {
   "cell_type": "code",
   "execution_count": 242,
   "metadata": {},
   "outputs": [],
   "source": [
    "# Constants\n",
    "from dim_constants import input_dim_resnet,  input_dim_densenet, input_dim_b0, input_dim_b3\n",
    "num_classes = 38\n",
    "output_dim = num_classes + 1"
   ]
  },
  {
   "cell_type": "code",
   "execution_count": 243,
   "metadata": {},
   "outputs": [
    {
     "name": "stderr",
     "output_type": "stream",
     "text": [
      "/var/folders/d_/dg_nw4n10mggl88prgyfcsn40000gn/T/ipykernel_11830/881478895.py:4: FutureWarning: You are using `torch.load` with `weights_only=False` (the current default value), which uses the default pickle module implicitly. It is possible to construct malicious pickle data which will execute arbitrary code during unpickling (See https://github.com/pytorch/pytorch/blob/main/SECURITY.md#untrusted-models for more details). In a future release, the default value for `weights_only` will be flipped to `True`. This limits the functions that could be executed during unpickling. Arbitrary objects will no longer be allowed to be loaded via this mode unless they are explicitly allowlisted by the user via `torch.serialization.add_safe_globals`. We recommend you start setting `weights_only=True` for any use case where you don't have full control of the loaded file. Please open an issue on GitHub for any issues related to this experimental feature.\n",
      "  model.load_state_dict(torch.load(model_path))\n"
     ]
    }
   ],
   "source": [
    "resnet50_head = load_model_from_file('models/resnet50.pth', input_dim_resnet, output_dim)\n",
    "densenet201_head = load_model_from_file('models/densenet201.pth', input_dim_densenet, output_dim)\n",
    "efficientnet_b0_head = load_model_from_file('models/efficientnet_b0.pth', input_dim_b0, output_dim)\n",
    "efficientnet_b3_head = load_model_from_file('models/efficientnet_b3.pth', input_dim_b3, output_dim)"
   ]
  },
  {
   "cell_type": "code",
   "execution_count": 244,
   "metadata": {},
   "outputs": [],
   "source": [
    "# Modify head of pre-trained models\n",
    "resnet50.fc = resnet50_head.to(device)\n",
    "densenet.classifier = densenet201_head.to(device)\n",
    "efficientnet_b0.classifier = efficientnet_b0_head.to(device)\n",
    "efficientnet_b3.classifier = efficientnet_b3_head.to(device)"
   ]
  },
  {
   "cell_type": "code",
   "execution_count": 245,
   "metadata": {},
   "outputs": [],
   "source": [
    "resnet50 = resnet50.to(device)\n",
    "densenet = densenet.to(device)\n",
    "efficientnet_b0 = efficientnet_b0.to(device)\n",
    "efficientnet_b3 = efficientnet_b3.to(device)"
   ]
  },
  {
   "cell_type": "code",
   "execution_count": 233,
   "metadata": {},
   "outputs": [],
   "source": [
    "# List of pretrained models\n",
    "models_list = [resnet50, densenet, efficientnet_b0, efficientnet_b3]"
   ]
  },
  {
   "cell_type": "code",
   "execution_count": 234,
   "metadata": {},
   "outputs": [],
   "source": [
    "class WeightedEnsemble(nn.Module):\n",
    "    def __init__(self, models, num_classes):\n",
    "        super(WeightedEnsemble, self).__init__()\n",
    "        self.models = models\n",
    "        self.num_models = len(models) \n",
    "        self.weights = nn.Parameter(torch.ones(self.num_models) / self.num_models)\n",
    "        self.num_classes = num_classes\n",
    "\n",
    "    def forward(self, inputs):\n",
    "        all_preds = []\n",
    "        \n",
    "        # Forward pass for each model in the ensemble\n",
    "        for i, model in enumerate(self.models):\n",
    "            model.eval()\n",
    "            with torch.no_grad():\n",
    "                inputs = inputs.to(device)\n",
    "                outputs = model(inputs)\n",
    "\n",
    "                # Now pass through the head (batch_norm and linear layers)\n",
    "                prob = nn.functional.softmax(outputs, dim=1)  # Apply softmax to get probabilities\n",
    "                all_preds.append(prob)\n",
    "\n",
    "        # Stack all predictions from each model\n",
    "        all_preds = torch.stack(all_preds)\n",
    "\n",
    "        # Normalize the weights (softmax ensures weights sum to 1)\n",
    "        normalized_weights = nn.functional.softmax(self.weights, dim=0)\n",
    "\n",
    "        # Aggregate the weighted predictions\n",
    "        weighted_preds = torch.sum(all_preds * normalized_weights.view(-1, 1, 1), dim=0)\n",
    "        return weighted_preds\n"
   ]
  },
  {
   "cell_type": "code",
   "execution_count": 235,
   "metadata": {},
   "outputs": [],
   "source": [
    "def train_ensemble_weights(ensemble, criterion, optimizer, epochs=5):\n",
    "    for epoch in range(epochs):\n",
    "        ensemble.train()  # Ensemble training mode (weights can be trained)\n",
    "        running_loss = 0.0\n",
    "\n",
    "        for i, (inputs, labels) in enumerate(train_dataloader):\n",
    "            inputs, labels = inputs.to(device), labels.to(device)\n",
    "            \n",
    "            optimizer.zero_grad()  # Zero gradients for optimizer\n",
    "            outputs = ensemble(inputs).to(device)  # Forward pass through ensemble\n",
    "            loss = criterion(outputs, labels)  # Compute loss\n",
    "            loss.backward()  # Backpropagate\n",
    "            optimizer.step()  # Update weights\n",
    "            \n",
    "            running_loss += loss.item()\n",
    "\n",
    "            if i%10==0 : \n",
    "                print(f'input {i}')\n",
    "                print('loss', running_loss)\n",
    "\n",
    "\n",
    "            \n",
    "        # Evaluate on test set\n",
    "        ensemble.eval()\n",
    "        correct = 0\n",
    "        total = 0\n",
    "        with torch.no_grad():\n",
    "            for inputs, labels in test_dataloader:\n",
    "                inputs, labels = inputs.to(device), labels.to(device)\n",
    "                outputs = ensemble(inputs)\n",
    "                _, predicted = torch.max(outputs, 1)\n",
    "                total += labels.size(0)\n",
    "                correct += (predicted == labels).sum().item()\n",
    "\n",
    "        test_accuracy = correct / total\n",
    "\n",
    "        print(f\"Epoch {epoch+1}/{epochs}, Loss: {running_loss/len(train_dataloader):.4f}, Test Accuracy: {test_accuracy:.4f}\")\n",
    "\n"
   ]
  },
  {
   "cell_type": "code",
   "execution_count": 236,
   "metadata": {},
   "outputs": [],
   "source": [
    "batch_size = 64"
   ]
  },
  {
   "cell_type": "code",
   "execution_count": 246,
   "metadata": {},
   "outputs": [],
   "source": [
    "# Evaluate on test set\n",
    "resnet50.eval()\n",
    "correct = 0\n",
    "total = 0\n",
    "with torch.no_grad():\n",
    "    for inputs, labels in test_dataloader:\n",
    "        inputs, labels = inputs.to(device), labels.to(device)\n",
    "        outputs = resnet50(inputs)\n",
    "        _, predicted = torch.max(outputs, 1)\n",
    "        total += labels.size(0)\n",
    "        correct += (predicted == labels).sum().item()\n",
    "\n",
    "test_accuracy = correct / total"
   ]
  },
  {
   "cell_type": "code",
   "execution_count": 247,
   "metadata": {},
   "outputs": [
    {
     "data": {
      "text/plain": [
       "0.0964920191180449"
      ]
     },
     "execution_count": 247,
     "metadata": {},
     "output_type": "execute_result"
    }
   ],
   "source": [
    "test_accuracy"
   ]
  },
  {
   "cell_type": "code",
   "execution_count": null,
   "metadata": {},
   "outputs": [
    {
     "name": "stdout",
     "output_type": "stream",
     "text": [
      "input 0\n",
      "0\n",
      "11\n",
      "21\n",
      "17\n",
      "final tensor([[6.6127e-11, 3.3037e-11, 9.2770e-12,  ..., 2.3452e-15, 4.4107e-12,\n",
      "         2.0284e-06],\n",
      "        [1.1810e-06, 1.3949e-04, 1.4449e-07,  ..., 9.8146e-07, 1.0924e-06,\n",
      "         2.5600e-01],\n",
      "        [2.2851e-08, 1.4413e-08, 4.4682e-09,  ..., 1.5381e-14, 1.1702e-09,\n",
      "         2.3509e-01],\n",
      "        ...,\n",
      "        [8.4585e-10, 1.5662e-09, 3.7343e-10,  ..., 2.0139e-10, 4.0198e-10,\n",
      "         6.5663e-07],\n",
      "        [8.7781e-03, 4.8363e-02, 6.3813e-05,  ..., 1.7200e-06, 9.0009e-05,\n",
      "         5.0124e-01],\n",
      "        [9.3433e-11, 2.0803e-11, 4.7359e-09,  ..., 4.7140e-01, 1.0944e-07,\n",
      "         4.9795e-01]], device='mps:0')\n",
      "predicted tensor([ 5, 38, 25, 12, 38, 26, 25, 11, 38, 38, 25, 38, 25,  5, 25, 25, 25, 25,\n",
      "         5, 38, 38,  5,  5,  5, 25, 38, 25, 25, 25, 33, 25, 38, 25, 38, 25, 38,\n",
      "        36, 38, 38, 25, 25, 25, 38, 25, 38, 11, 25, 25, 25, 25, 38, 38, 25, 38,\n",
      "        25, 25, 38, 25, 38, 25, 25,  5, 38, 38], device='mps:0')\n",
      "labels tensor([16, 31, 14, 13, 29, 26,  8, 11, 29, 38, 22, 26, 25, 16, 16, 25, 25, 25,\n",
      "        16, 35, 13,  5, 16, 17, 25, 34, 17, 22, 36, 37, 14, 38,  1, 33, 16, 12,\n",
      "        36, 36, 33, 20, 11,  3, 33, 16, 35, 11, 16, 20, 15, 25, 38, 22,  9,  3,\n",
      "        25,  9, 30, 11, 38, 25, 36, 16, 33, 36], device='mps:0')\n",
      "correct 0.265625\n",
      "0\n",
      "11\n",
      "16\n",
      "21\n",
      "final tensor([[1.7259e-03, 9.4947e-03, 1.1014e-06,  ..., 5.4534e-06, 5.0478e-07,\n",
      "         1.0914e-01],\n",
      "        [2.6195e-10, 1.9200e-11, 2.7651e-11,  ..., 1.2234e-12, 6.0142e-11,\n",
      "         4.9989e-01],\n",
      "        [5.0154e-08, 1.9386e-05, 1.6755e-10,  ..., 1.0019e-12, 1.0971e-09,\n",
      "         5.0000e-01],\n",
      "        ...,\n",
      "        [1.4633e-07, 5.2485e-08, 2.0639e-07,  ..., 1.9668e-03, 6.6163e-07,\n",
      "         2.7561e-07],\n",
      "        [8.1973e-11, 5.2047e-08, 8.4097e-12,  ..., 2.5542e-17, 2.1126e-11,\n",
      "         4.8152e-01],\n",
      "        [7.4364e-14, 1.9944e-10, 2.5104e-14,  ..., 3.7735e-12, 2.5489e-13,\n",
      "         5.0000e-01]], device='mps:0')\n",
      "predicted tensor([ 5, 25, 38, 25, 25, 25, 38,  7, 25, 25,  5, 11, 38, 25, 25, 25, 25, 38,\n",
      "        25, 25, 38, 33, 38, 38,  3, 25, 38, 38, 38, 25, 25, 25, 38, 27, 25, 38,\n",
      "        38, 38,  7, 25, 38, 27, 25, 25, 25, 25, 25, 25,  7, 21, 25, 25, 25, 25,\n",
      "        25, 25, 25, 25,  5, 25, 38, 25, 25, 38], device='mps:0')\n",
      "labels tensor([18, 29,  1, 16, 36, 36, 31, 11, 22, 25, 17, 11, 34,  6, 35, 25,  9, 29,\n",
      "        25,  9, 38, 33, 33, 36,  3, 36, 33, 24, 26, 16,  9,  9, 35,  1,  4, 36,\n",
      "        26, 35,  7, 16, 38, 14, 20, 16, 31,  2, 16, 36, 15, 14, 25, 36, 20, 23,\n",
      "        26, 31, 36, 35,  5, 36, 29,  4, 25, 34], device='mps:0')\n",
      "correct 0.2265625\n"
     ]
    },
    {
     "ename": "KeyboardInterrupt",
     "evalue": "",
     "output_type": "error",
     "traceback": [
      "\u001b[0;31m---------------------------------------------------------------------------\u001b[0m",
      "\u001b[0;31mKeyboardInterrupt\u001b[0m                         Traceback (most recent call last)",
      "Cell \u001b[0;32mIn[237], line 17\u001b[0m\n\u001b[1;32m     15\u001b[0m     outputs \u001b[38;5;241m=\u001b[39m model(inputs)\u001b[38;5;241m.\u001b[39mto(device)\n\u001b[1;32m     16\u001b[0m     _, predicted \u001b[38;5;241m=\u001b[39m torch\u001b[38;5;241m.\u001b[39mmax(final_outputs, \u001b[38;5;241m1\u001b[39m)\n\u001b[0;32m---> 17\u001b[0m     \u001b[38;5;28mprint\u001b[39m(\u001b[43m(\u001b[49m\u001b[43mpredicted\u001b[49m\u001b[43m \u001b[49m\u001b[38;5;241;43m==\u001b[39;49m\u001b[43m \u001b[49m\u001b[43mlabels\u001b[49m\u001b[43m)\u001b[49m\u001b[38;5;241;43m.\u001b[39;49m\u001b[43msum\u001b[49m\u001b[43m(\u001b[49m\u001b[43m)\u001b[49m\u001b[38;5;241;43m.\u001b[39;49m\u001b[43mitem\u001b[49m\u001b[43m(\u001b[49m\u001b[43m)\u001b[49m)\n\u001b[1;32m     18\u001b[0m     final_outputs \u001b[38;5;241m+\u001b[39m\u001b[38;5;241m=\u001b[39m outputs  \u001b[38;5;66;03m# Accumulate outputs from each model\u001b[39;00m\n\u001b[1;32m     20\u001b[0m \u001b[38;5;66;03m# Average the accumulated outputs\u001b[39;00m\n",
      "\u001b[0;31mKeyboardInterrupt\u001b[0m: "
     ]
    }
   ],
   "source": [
    "# Evaluate on test set\n",
    "correct = 0\n",
    "total = 0\n",
    "with torch.no_grad():\n",
    "    for i, (inputs, labels) in enumerate(test_dataloader):\n",
    "        if i%50 == 0:\n",
    "            print('input', i)\n",
    "        inputs, labels = inputs.to(device), labels.to(device)\n",
    "        \n",
    "        # Initialize a zero tensor for averaging\n",
    "        final_outputs = torch.zeros(inputs.size(0), output_dim).to(device)\n",
    "        \n",
    "        for model in models_list:\n",
    "            model.eval()  # Ensure the model is in evaluation mode\n",
    "            outputs = model(inputs).to(device)\n",
    "            _, predicted = torch.max(final_outputs, 1)\n",
    "            print((predicted == labels).sum().item())\n",
    "            final_outputs += outputs  # Accumulate outputs from each model\n",
    "        \n",
    "        # Average the accumulated outputs\n",
    "        final_outputs /= len(models_list)\n",
    "        \n",
    "        # Compute predictions and accuracy\n",
    "        _, predicted = torch.max(final_outputs, 1)\n",
    "        total += labels.size(0)\n",
    "        correct += (predicted == labels).sum().item()\n",
    "\n",
    "    # Calculate test accuracy\n",
    "    test_accuracy = correct / total\n",
    "\n",
    "    print(f\"Test Accuracy: {test_accuracy:.4f}\")\n"
   ]
  },
  {
   "cell_type": "code",
   "execution_count": null,
   "metadata": {},
   "outputs": [
    {
     "name": "stdout",
     "output_type": "stream",
     "text": [
      "all_preds torch.Size([4, 64, 39])\n",
      "weighted_preds torch.Size([4, 64, 4])\n",
      "outputs torch.Size([4, 64, 4])\n",
      "labels tensor([25,  9, 10, 28, 12, 35, 30, 31, 20, 38, 38,  3, 36, 19, 26, 31, 25, 36,\n",
      "        17, 31, 16, 32, 16, 16,  2,  6, 26, 12,  4, 16,  0, 38, 34, 34,  6, 31,\n",
      "        16, 17, 16, 20, 17, 11, 14, 38, 12, 26, 33, 16, 25, 16, 16, 19, 32, 34,\n",
      "        36,  5, 17, 35, 24, 14, 16, 20, 31,  6], device='mps:0') torch.Size([64])\n"
     ]
    },
    {
     "ename": "ValueError",
     "evalue": "Expected input batch_size (4) to match target batch_size (64).",
     "output_type": "error",
     "traceback": [
      "\u001b[0;31m---------------------------------------------------------------------------\u001b[0m",
      "\u001b[0;31mValueError\u001b[0m                                Traceback (most recent call last)",
      "Cell \u001b[0;32mIn[202], line 12\u001b[0m\n\u001b[1;32m      9\u001b[0m optimizer \u001b[38;5;241m=\u001b[39m optim\u001b[38;5;241m.\u001b[39mAdam([ensemble\u001b[38;5;241m.\u001b[39mweights], lr\u001b[38;5;241m=\u001b[39m\u001b[38;5;241m0.01\u001b[39m) \n\u001b[1;32m     11\u001b[0m \u001b[38;5;66;03m# Train the ensemble weights\u001b[39;00m\n\u001b[0;32m---> 12\u001b[0m \u001b[43mtrain_ensemble_weights\u001b[49m\u001b[43m(\u001b[49m\u001b[43mensemble\u001b[49m\u001b[43m,\u001b[49m\u001b[43m \u001b[49m\u001b[43mcriterion\u001b[49m\u001b[43m,\u001b[49m\u001b[43m \u001b[49m\u001b[43moptimizer\u001b[49m\u001b[43m,\u001b[49m\u001b[43m \u001b[49m\u001b[43mepochs\u001b[49m\u001b[38;5;241;43m=\u001b[39;49m\u001b[38;5;241;43m10\u001b[39;49m\u001b[43m)\u001b[49m\n",
      "Cell \u001b[0;32mIn[167], line 13\u001b[0m, in \u001b[0;36mtrain_ensemble_weights\u001b[0;34m(ensemble, criterion, optimizer, epochs)\u001b[0m\n\u001b[1;32m     11\u001b[0m \u001b[38;5;28mprint\u001b[39m(\u001b[38;5;124m'\u001b[39m\u001b[38;5;124moutputs\u001b[39m\u001b[38;5;124m'\u001b[39m, outputs\u001b[38;5;241m.\u001b[39mshape)\n\u001b[1;32m     12\u001b[0m \u001b[38;5;28mprint\u001b[39m(\u001b[38;5;124m'\u001b[39m\u001b[38;5;124mlabels\u001b[39m\u001b[38;5;124m'\u001b[39m, labels, labels\u001b[38;5;241m.\u001b[39mshape)\n\u001b[0;32m---> 13\u001b[0m loss \u001b[38;5;241m=\u001b[39m \u001b[43mcriterion\u001b[49m\u001b[43m(\u001b[49m\u001b[43moutputs\u001b[49m\u001b[43m,\u001b[49m\u001b[43m \u001b[49m\u001b[43mlabels\u001b[49m\u001b[43m)\u001b[49m  \u001b[38;5;66;03m# Compute loss\u001b[39;00m\n\u001b[1;32m     14\u001b[0m loss\u001b[38;5;241m.\u001b[39mbackward()  \u001b[38;5;66;03m# Backpropagate\u001b[39;00m\n\u001b[1;32m     15\u001b[0m optimizer\u001b[38;5;241m.\u001b[39mstep()  \u001b[38;5;66;03m# Update weights\u001b[39;00m\n",
      "File \u001b[0;32m~/Library/Python/3.9/lib/python/site-packages/torch/nn/modules/module.py:1736\u001b[0m, in \u001b[0;36mModule._wrapped_call_impl\u001b[0;34m(self, *args, **kwargs)\u001b[0m\n\u001b[1;32m   1734\u001b[0m     \u001b[38;5;28;01mreturn\u001b[39;00m \u001b[38;5;28mself\u001b[39m\u001b[38;5;241m.\u001b[39m_compiled_call_impl(\u001b[38;5;241m*\u001b[39margs, \u001b[38;5;241m*\u001b[39m\u001b[38;5;241m*\u001b[39mkwargs)  \u001b[38;5;66;03m# type: ignore[misc]\u001b[39;00m\n\u001b[1;32m   1735\u001b[0m \u001b[38;5;28;01melse\u001b[39;00m:\n\u001b[0;32m-> 1736\u001b[0m     \u001b[38;5;28;01mreturn\u001b[39;00m \u001b[38;5;28;43mself\u001b[39;49m\u001b[38;5;241;43m.\u001b[39;49m\u001b[43m_call_impl\u001b[49m\u001b[43m(\u001b[49m\u001b[38;5;241;43m*\u001b[39;49m\u001b[43margs\u001b[49m\u001b[43m,\u001b[49m\u001b[43m \u001b[49m\u001b[38;5;241;43m*\u001b[39;49m\u001b[38;5;241;43m*\u001b[39;49m\u001b[43mkwargs\u001b[49m\u001b[43m)\u001b[49m\n",
      "File \u001b[0;32m~/Library/Python/3.9/lib/python/site-packages/torch/nn/modules/module.py:1747\u001b[0m, in \u001b[0;36mModule._call_impl\u001b[0;34m(self, *args, **kwargs)\u001b[0m\n\u001b[1;32m   1742\u001b[0m \u001b[38;5;66;03m# If we don't have any hooks, we want to skip the rest of the logic in\u001b[39;00m\n\u001b[1;32m   1743\u001b[0m \u001b[38;5;66;03m# this function, and just call forward.\u001b[39;00m\n\u001b[1;32m   1744\u001b[0m \u001b[38;5;28;01mif\u001b[39;00m \u001b[38;5;129;01mnot\u001b[39;00m (\u001b[38;5;28mself\u001b[39m\u001b[38;5;241m.\u001b[39m_backward_hooks \u001b[38;5;129;01mor\u001b[39;00m \u001b[38;5;28mself\u001b[39m\u001b[38;5;241m.\u001b[39m_backward_pre_hooks \u001b[38;5;129;01mor\u001b[39;00m \u001b[38;5;28mself\u001b[39m\u001b[38;5;241m.\u001b[39m_forward_hooks \u001b[38;5;129;01mor\u001b[39;00m \u001b[38;5;28mself\u001b[39m\u001b[38;5;241m.\u001b[39m_forward_pre_hooks\n\u001b[1;32m   1745\u001b[0m         \u001b[38;5;129;01mor\u001b[39;00m _global_backward_pre_hooks \u001b[38;5;129;01mor\u001b[39;00m _global_backward_hooks\n\u001b[1;32m   1746\u001b[0m         \u001b[38;5;129;01mor\u001b[39;00m _global_forward_hooks \u001b[38;5;129;01mor\u001b[39;00m _global_forward_pre_hooks):\n\u001b[0;32m-> 1747\u001b[0m     \u001b[38;5;28;01mreturn\u001b[39;00m \u001b[43mforward_call\u001b[49m\u001b[43m(\u001b[49m\u001b[38;5;241;43m*\u001b[39;49m\u001b[43margs\u001b[49m\u001b[43m,\u001b[49m\u001b[43m \u001b[49m\u001b[38;5;241;43m*\u001b[39;49m\u001b[38;5;241;43m*\u001b[39;49m\u001b[43mkwargs\u001b[49m\u001b[43m)\u001b[49m\n\u001b[1;32m   1749\u001b[0m result \u001b[38;5;241m=\u001b[39m \u001b[38;5;28;01mNone\u001b[39;00m\n\u001b[1;32m   1750\u001b[0m called_always_called_hooks \u001b[38;5;241m=\u001b[39m \u001b[38;5;28mset\u001b[39m()\n",
      "File \u001b[0;32m~/Library/Python/3.9/lib/python/site-packages/torch/nn/modules/loss.py:1293\u001b[0m, in \u001b[0;36mCrossEntropyLoss.forward\u001b[0;34m(self, input, target)\u001b[0m\n\u001b[1;32m   1292\u001b[0m \u001b[38;5;28;01mdef\u001b[39;00m \u001b[38;5;21mforward\u001b[39m(\u001b[38;5;28mself\u001b[39m, \u001b[38;5;28minput\u001b[39m: Tensor, target: Tensor) \u001b[38;5;241m-\u001b[39m\u001b[38;5;241m>\u001b[39m Tensor:\n\u001b[0;32m-> 1293\u001b[0m     \u001b[38;5;28;01mreturn\u001b[39;00m \u001b[43mF\u001b[49m\u001b[38;5;241;43m.\u001b[39;49m\u001b[43mcross_entropy\u001b[49m\u001b[43m(\u001b[49m\n\u001b[1;32m   1294\u001b[0m \u001b[43m        \u001b[49m\u001b[38;5;28;43minput\u001b[39;49m\u001b[43m,\u001b[49m\n\u001b[1;32m   1295\u001b[0m \u001b[43m        \u001b[49m\u001b[43mtarget\u001b[49m\u001b[43m,\u001b[49m\n\u001b[1;32m   1296\u001b[0m \u001b[43m        \u001b[49m\u001b[43mweight\u001b[49m\u001b[38;5;241;43m=\u001b[39;49m\u001b[38;5;28;43mself\u001b[39;49m\u001b[38;5;241;43m.\u001b[39;49m\u001b[43mweight\u001b[49m\u001b[43m,\u001b[49m\n\u001b[1;32m   1297\u001b[0m \u001b[43m        \u001b[49m\u001b[43mignore_index\u001b[49m\u001b[38;5;241;43m=\u001b[39;49m\u001b[38;5;28;43mself\u001b[39;49m\u001b[38;5;241;43m.\u001b[39;49m\u001b[43mignore_index\u001b[49m\u001b[43m,\u001b[49m\n\u001b[1;32m   1298\u001b[0m \u001b[43m        \u001b[49m\u001b[43mreduction\u001b[49m\u001b[38;5;241;43m=\u001b[39;49m\u001b[38;5;28;43mself\u001b[39;49m\u001b[38;5;241;43m.\u001b[39;49m\u001b[43mreduction\u001b[49m\u001b[43m,\u001b[49m\n\u001b[1;32m   1299\u001b[0m \u001b[43m        \u001b[49m\u001b[43mlabel_smoothing\u001b[49m\u001b[38;5;241;43m=\u001b[39;49m\u001b[38;5;28;43mself\u001b[39;49m\u001b[38;5;241;43m.\u001b[39;49m\u001b[43mlabel_smoothing\u001b[49m\u001b[43m,\u001b[49m\n\u001b[1;32m   1300\u001b[0m \u001b[43m    \u001b[49m\u001b[43m)\u001b[49m\n",
      "File \u001b[0;32m~/Library/Python/3.9/lib/python/site-packages/torch/nn/functional.py:3479\u001b[0m, in \u001b[0;36mcross_entropy\u001b[0;34m(input, target, weight, size_average, ignore_index, reduce, reduction, label_smoothing)\u001b[0m\n\u001b[1;32m   3477\u001b[0m \u001b[38;5;28;01mif\u001b[39;00m size_average \u001b[38;5;129;01mis\u001b[39;00m \u001b[38;5;129;01mnot\u001b[39;00m \u001b[38;5;28;01mNone\u001b[39;00m \u001b[38;5;129;01mor\u001b[39;00m reduce \u001b[38;5;129;01mis\u001b[39;00m \u001b[38;5;129;01mnot\u001b[39;00m \u001b[38;5;28;01mNone\u001b[39;00m:\n\u001b[1;32m   3478\u001b[0m     reduction \u001b[38;5;241m=\u001b[39m _Reduction\u001b[38;5;241m.\u001b[39mlegacy_get_string(size_average, reduce)\n\u001b[0;32m-> 3479\u001b[0m \u001b[38;5;28;01mreturn\u001b[39;00m \u001b[43mtorch\u001b[49m\u001b[38;5;241;43m.\u001b[39;49m\u001b[43m_C\u001b[49m\u001b[38;5;241;43m.\u001b[39;49m\u001b[43m_nn\u001b[49m\u001b[38;5;241;43m.\u001b[39;49m\u001b[43mcross_entropy_loss\u001b[49m\u001b[43m(\u001b[49m\n\u001b[1;32m   3480\u001b[0m \u001b[43m    \u001b[49m\u001b[38;5;28;43minput\u001b[39;49m\u001b[43m,\u001b[49m\n\u001b[1;32m   3481\u001b[0m \u001b[43m    \u001b[49m\u001b[43mtarget\u001b[49m\u001b[43m,\u001b[49m\n\u001b[1;32m   3482\u001b[0m \u001b[43m    \u001b[49m\u001b[43mweight\u001b[49m\u001b[43m,\u001b[49m\n\u001b[1;32m   3483\u001b[0m \u001b[43m    \u001b[49m\u001b[43m_Reduction\u001b[49m\u001b[38;5;241;43m.\u001b[39;49m\u001b[43mget_enum\u001b[49m\u001b[43m(\u001b[49m\u001b[43mreduction\u001b[49m\u001b[43m)\u001b[49m\u001b[43m,\u001b[49m\n\u001b[1;32m   3484\u001b[0m \u001b[43m    \u001b[49m\u001b[43mignore_index\u001b[49m\u001b[43m,\u001b[49m\n\u001b[1;32m   3485\u001b[0m \u001b[43m    \u001b[49m\u001b[43mlabel_smoothing\u001b[49m\u001b[43m,\u001b[49m\n\u001b[1;32m   3486\u001b[0m \u001b[43m\u001b[49m\u001b[43m)\u001b[49m\n",
      "\u001b[0;31mValueError\u001b[0m: Expected input batch_size (4) to match target batch_size (64)."
     ]
    }
   ],
   "source": [
    "# List of pretrained models\n",
    "models_list = [resnet50, densenet, efficientnet_b0, efficientnet_b3]\n",
    "\n",
    "# Define the ensemble\n",
    "ensemble = WeightedEnsemble(models_list, output_dim)\n",
    "\n",
    "# Loss function and optimizer\n",
    "criterion = nn.CrossEntropyLoss()\n",
    "optimizer = optim.Adam([ensemble.weights], lr=0.01) \n",
    "\n",
    "# Train the ensemble weights\n",
    "train_ensemble_weights(ensemble, criterion, optimizer, epochs=10)"
   ]
  }
 ],
 "metadata": {
  "kernelspec": {
   "display_name": "Python 3",
   "language": "python",
   "name": "python3"
  },
  "language_info": {
   "codemirror_mode": {
    "name": "ipython",
    "version": 3
   },
   "file_extension": ".py",
   "mimetype": "text/x-python",
   "name": "python",
   "nbconvert_exporter": "python",
   "pygments_lexer": "ipython3",
   "version": "3.9.6"
  }
 },
 "nbformat": 4,
 "nbformat_minor": 2
}
