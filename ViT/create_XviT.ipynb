{
 "cells": [
  {
   "cell_type": "code",
   "execution_count": 35,
   "metadata": {},
   "outputs": [],
   "source": [
    "from PIL import Image\n",
    "import requests\n",
    "from torchvision import transforms, models\n",
    "from torch.utils.data import DataLoader\n",
    "import torch\n",
    "from transformers import ViTForImageClassification, ViTImageProcessor"
   ]
  },
  {
   "cell_type": "code",
   "execution_count": 36,
   "metadata": {},
   "outputs": [],
   "source": [
    "import sys\n",
    "import os\n",
    "sys.path.append(os.path.abspath('../'))\n"
   ]
  },
  {
   "cell_type": "code",
   "execution_count": 131,
   "metadata": {},
   "outputs": [],
   "source": [
    "def collate_fn(batch):\n",
    "    return {\n",
    "        'pixel_values': torch.stack([x[0] for x in batch]).reshape(len(batch), 3, 224, 224),\n",
    "        'labels': torch.tensor([x[1] for x in batch])\n",
    "    }   "
   ]
  },
  {
   "cell_type": "code",
   "execution_count": 125,
   "metadata": {},
   "outputs": [],
   "source": [
    "from utils.load_dataset import PlantVillageDataset\n",
    "model_name_or_path = 'google/vit-base-patch16-224-in21k'\n",
    "path_dataset = '../Plant_leave_diseases_dataset_without_augmentation'\n",
    "model = ViTImageProcessor.from_pretrained(model_name_or_path)\n",
    "transform = transforms.Compose([\n",
    "     lambda x: processor(images=x, return_tensors=\"pt\")['pixel_values']\n",
    "     ])\n",
    "\n",
    "train_dataset = PlantVillageDataset(root_dir=path_dataset, train=True, transform=transform)\n",
    "val_dataset = PlantVillageDataset(root_dir=path_dataset, train=False, transform=transform)\n"
   ]
  },
  {
   "cell_type": "code",
   "execution_count": 133,
   "metadata": {},
   "outputs": [],
   "source": [
    "train_loader = DataLoader(train_dataset, batch_size=32, shuffle=True, collate_fn=collate_fn)\n",
    "val_loader = DataLoader(val_dataset, batch_size=32, shuffle=False, collate_fn=collate_fn)"
   ]
  },
  {
   "cell_type": "code",
   "execution_count": 137,
   "metadata": {},
   "outputs": [
    {
     "name": "stderr",
     "output_type": "stream",
     "text": [
      "Some weights of ViTForImageClassification were not initialized from the model checkpoint at google/vit-base-patch16-224-in21k and are newly initialized: ['classifier.bias', 'classifier.weight']\n",
      "You should probably TRAIN this model on a down-stream task to be able to use it for predictions and inference.\n"
     ]
    }
   ],
   "source": [
    "from transformers import ViTForImageClassification\n",
    "num_classes = len(train_dataset.label_to_idx)\n",
    "# Initialize model  \n",
    "model = ViTForImageClassification.from_pretrained(\n",
    "    'google/vit-base-patch16-224-in21k',\n",
    "    num_labels=num_classes,\n",
    "    id2label={str(v): k for k, v in train_dataset.label_to_idx.items()},\n",
    "    label2id=train_dataset.label_to_idx\n",
    ")"
   ]
  },
  {
   "cell_type": "code",
   "execution_count": 139,
   "metadata": {},
   "outputs": [
    {
     "name": "stdout",
     "output_type": "stream",
     "text": [
      "16\n",
      "Loss after epoch {epoch}: 0.0021036590239386717\n",
      "0\n"
     ]
    },
    {
     "ename": "RuntimeError",
     "evalue": "a Tensor with 1248 elements cannot be converted to Scalar",
     "output_type": "error",
     "traceback": [
      "\u001b[1;31m---------------------------------------------------------------------------\u001b[0m",
      "\u001b[1;31mRuntimeError\u001b[0m                              Traceback (most recent call last)",
      "Cell \u001b[1;32mIn[139], line 38\u001b[0m\n\u001b[0;32m     35\u001b[0m         outputs \u001b[38;5;241m=\u001b[39m model(\u001b[38;5;241m*\u001b[39m\u001b[38;5;241m*\u001b[39mbatch)\n\u001b[0;32m     36\u001b[0m         loss \u001b[38;5;241m=\u001b[39m outputs\u001b[38;5;241m.\u001b[39mlogits\n\u001b[1;32m---> 38\u001b[0m         val_loss \u001b[38;5;241m+\u001b[39m\u001b[38;5;241m=\u001b[39m \u001b[43mloss\u001b[49m\u001b[38;5;241;43m.\u001b[39;49m\u001b[43mitem\u001b[49m\u001b[43m(\u001b[49m\u001b[43m)\u001b[49m\n\u001b[0;32m     39\u001b[0m         \u001b[38;5;28;01mbreak\u001b[39;00m  \n\u001b[0;32m     40\u001b[0m \u001b[38;5;28mprint\u001b[39m(\u001b[38;5;124m\"\u001b[39m\u001b[38;5;124mValidation loss after epoch \u001b[39m\u001b[38;5;132;01m{epoch}\u001b[39;00m\u001b[38;5;124m:\u001b[39m\u001b[38;5;124m\"\u001b[39m, val_loss\u001b[38;5;241m/\u001b[39m\u001b[38;5;28mlen\u001b[39m(val_loader))\n",
      "\u001b[1;31mRuntimeError\u001b[0m: a Tensor with 1248 elements cannot be converted to Scalar"
     ]
    }
   ],
   "source": [
    "optimizer = torch.optim.Adam(model.parameters(), lr=5e-5)\n",
    "\n",
    "# put model on GPU, if available\n",
    "device = torch.device(\"cuda\" if torch.cuda.is_available() else \"cpu\")\n",
    "model.to(device)\n",
    "epochs = 6\n",
    "criterion = torch.nn.CrossEntropyLoss()\n",
    "\n",
    "for epoch in range(epochs):\n",
    "    model.train()\n",
    "    train_loss = 0.0\n",
    "    for batch in train_loader:\n",
    "        # put batch on device\n",
    "        batch = {k:v.to(device) for k,v in batch.items()}\n",
    "        # forward pass\n",
    "        outputs = model(**batch)\n",
    "        loss = outputs.loss\n",
    "        \n",
    "        train_loss += loss.item()\n",
    "        \n",
    "        loss.backward()\n",
    "        optimizer.step()\n",
    "        optimizer.zero_grad()\n",
    "\n",
    "    print(\"Loss after epoch {epoch}:\", train_loss/len(train_loader))\n",
    "    \n",
    "    model.eval()\n",
    "    val_loss = 0.0\n",
    "    with torch.no_grad():\n",
    "        for batch in val_loader:\n",
    "            # put batch on device\n",
    "            batch = {k:v.to(device) for k,v in batch.items()}\n",
    "            \n",
    "            # forward pass\n",
    "            outputs = model(**batch)\n",
    "            loss = outputs.logits\n",
    "            \n",
    "            val_loss += torch.sum(loss).detach().cpu().numpy()\n",
    "            break  \n",
    "    print(\"Validation loss after epoch {epoch}:\", val_loss/len(val_loader))"
   ]
  },
  {
   "cell_type": "code",
   "execution_count": 145,
   "metadata": {},
   "outputs": [
    {
     "name": "stdout",
     "output_type": "stream",
     "text": [
      "0\n",
      "Validation loss after epoch {epoch}: -0.0048491526\n"
     ]
    }
   ],
   "source": [
    "model.eval()\n",
    "val_loss = 0.0\n",
    "with torch.no_grad():\n",
    "    for batch in val_loader:\n",
    "        # put batch on device\n",
    "        batch = {k:v.to(device) for k,v in batch.items()}\n",
    "        \n",
    "        # forward pass\n",
    "        outputs = model(**batch)\n",
    "        loss = outputs.logits\n",
    "        \n",
    "        val_loss += torch.sum(loss).detach().cpu().numpy()\n",
    "        break  \n",
    "print(\"Validation loss after epoch {epoch}:\", val_loss/len(val_loader))"
   ]
  },
  {
   "cell_type": "code",
   "execution_count": 146,
   "metadata": {},
   "outputs": [],
   "source": [
    "torch.save(model.state_dict(), './XviT.pth')"
   ]
  }
 ],
 "metadata": {
  "kernelspec": {
   "display_name": "DL",
   "language": "python",
   "name": "python3"
  },
  "language_info": {
   "codemirror_mode": {
    "name": "ipython",
    "version": 3
   },
   "file_extension": ".py",
   "mimetype": "text/x-python",
   "name": "python",
   "nbconvert_exporter": "python",
   "pygments_lexer": "ipython3",
   "version": "3.9.7"
  }
 },
 "nbformat": 4,
 "nbformat_minor": 2
}
